{
 "cells": [
  {
   "cell_type": "markdown",
   "metadata": {},
   "source": [
    "### convert dat to metadata\n",
    "\n",
    "Output metadata from a Dat file and display analysis values and graphs"
   ]
  },
  {
   "cell_type": "code",
   "execution_count": null,
   "metadata": {},
   "outputs": [],
   "source": [
    "from pathlib import Path\n",
    "import numpy as np\n",
    "\n",
    "import matplotlib.pyplot as plt\n",
    "from acdatconv import datconv as dv"
   ]
  },
  {
   "cell_type": "code",
   "execution_count": null,
   "metadata": {},
   "outputs": [],
   "source": [
    "%load_ext autoreload\n",
    "%autoreload 2"
   ]
  },
  {
   "cell_type": "code",
   "execution_count": null,
   "metadata": {},
   "outputs": [],
   "source": [
    "# file_name = r\"validationData\\AC3_off.dat\"\n",
    "file_name = r''\n",
    "\n",
    "acdata = dv.AcConv(file_name)\n",
    "acdata.convert()"
   ]
  },
  {
   "cell_type": "code",
   "execution_count": null,
   "metadata": {},
   "outputs": [],
   "source": [
    "# all metadata\n",
    "ac_meta = acdata.metadata\n",
    "\n",
    "print(ac_meta)\n",
    "\n",
    "# key_list = []\n",
    "# for key in ac_meta.keys():\n",
    "#     # print(key)\n",
    "#     key_list.append(key)\n",
    "# print(key_list)\n",
    "\n",
    "# ['fileType', 'deadTime', 'countingTime', 'powerNumber', 'anodeVoltage', 'step', 'model', 'yAxisMaximum', 'startEnergy', 'finishEnergy', \n",
    "# 'flagDifDataGroundLevel', 'bgCountingRate', 'measureDate', 'sampleName', 'uvIntensity59', 'targetUv', 'nameLightCorrection', 'sensitivity1', 'sensitivity2', \n",
    "# 'uvEnergy', 'countingCorrection', 'photonCorrection', \n",
    "# 'pyield', 'npyield', 'nayield', 'guideline', 'countingRate', 'flGrandLevel', 'flRegLevel', 'uvIntensity', \n",
    "# 'thresholdEnergy', 'slope', 'yslice', 'bg']\n",
    "\n",
    "\n",
    "# acdata.metadata[\"sampleName\"]"
   ]
  },
  {
   "cell_type": "code",
   "execution_count": null,
   "metadata": {},
   "outputs": [],
   "source": [
    "# all metadata by json type\n",
    "# acdata.json "
   ]
  },
  {
   "cell_type": "code",
   "execution_count": null,
   "metadata": {},
   "outputs": [],
   "source": [
    "# user analysis values \n",
    "acdata.estimate_value"
   ]
  },
  {
   "cell_type": "code",
   "execution_count": null,
   "metadata": {},
   "outputs": [],
   "source": [
    "# yield data by dataframe type\n",
    "# print(acdata.df.columns)\n",
    "# column -> \"uvEnergy\", \"countingCorrection\", \"photonCorrection\", \"pyield\", \"npyield\", \"nayield\", \n",
    "#           \"guideline\",\"countingRate\",\"flGrandLevel\",\"flRegLevel\",\"uvIntensity\"\n",
    "\n",
    "acdata.df"
   ]
  },
  {
   "cell_type": "code",
   "execution_count": null,
   "metadata": {},
   "outputs": [],
   "source": [
    "# export dataframe data to csv \n",
    "acdata.export_df2csv()"
   ]
  },
  {
   "cell_type": "code",
   "execution_count": null,
   "metadata": {},
   "outputs": [],
   "source": [
    "acdata.export_json()"
   ]
  },
  {
   "cell_type": "code",
   "execution_count": null,
   "metadata": {},
   "outputs": [],
   "source": [
    "fig =plt.figure() \n",
    "ax = fig.add_subplot(111)\n",
    "ax.set_title(f'{acdata.metadata[\"sampleName\"]}')\n",
    "ax.plot(acdata.df[\"uvEnergy\"],acdata.df[\"npyield\"],'ro-',label='Data')\n",
    "ax.plot(acdata.df[\"uvEnergy\"],acdata.df[\"guideline\"],'b-',label=f'Estimate line\\n {acdata.metadata[\"thresholdEnergy\"]:.2f}eV')\n",
    "ax.legend()\n",
    "ax.grid()\n",
    "ax.set_xlabel('energy [eV]')\n",
    "ax.set_ylabel(f'Intensity^{acdata.metadata[\"powerNumber\"]:.2f}')\n",
    "plt.show()"
   ]
  }
 ],
 "metadata": {
  "kernelspec": {
   "display_name": "Python 3.7.1 ('base')",
   "language": "python",
   "name": "python3"
  },
  "language_info": {
   "codemirror_mode": {
    "name": "ipython",
    "version": 3
   },
   "file_extension": ".py",
   "mimetype": "text/x-python",
   "name": "python",
   "nbconvert_exporter": "python",
   "pygments_lexer": "ipython3",
   "version": "3.7.1"
  },
  "orig_nbformat": 4,
  "vscode": {
   "interpreter": {
    "hash": "b66da06cecefeedcb0375b3971526220e456f8615e08c7fc3d59ab7f27c37be5"
   }
  }
 },
 "nbformat": 4,
 "nbformat_minor": 2
}
